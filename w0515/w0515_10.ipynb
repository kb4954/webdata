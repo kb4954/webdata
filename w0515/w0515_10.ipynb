{
 "cells": [
  {
   "cell_type": "markdown",
   "id": "3cfea1ef",
   "metadata": {},
   "source": [
    "https://www.yeogi.com/<br>\n",
    "오사카글자 넣어서 검색 <br>\n",
    "9.24~9.27 검색 <br>\n",
    "금액은 220,000만원 이하<br>\n",
    "평점은 9.0 이상<br>\n",
    "평가수는 5000명 이상입력한것만 출력하시오"
   ]
  },
  {
   "cell_type": "code",
   "execution_count": 12,
   "id": "f50a8b55",
   "metadata": {},
   "outputs": [],
   "source": [
    "import requests\n",
    "from bs4 import BeautifulSoup\n",
    "from selenium import webdriver\n",
    "from selenium.webdriver.common.keys import Keys\n",
    "from selenium.webdriver.common.by import By\n",
    "from selenium.webdriver.chrome.service import Service\n",
    "from selenium.webdriver.chrome.options import Options\n",
    "from selenium.webdriver.support.ui import WebDriverWait\n",
    "from selenium.webdriver.support import expected_conditions as EC\n",
    "import csv\n",
    "import time\n",
    "import random\n",
    "from datetime import datetime\n",
    "import pandas as pd\n",
    "\n",
    "# 크롬 옵션 설정 - 셀레니움 접근 제한 : 보안\n",
    "options = Options()\n",
    "options.add_argument(\"--disable-blink-features=AutomationControlled\")  # 자동화 티 안 나게\n",
    "options.add_argument(\"start-maximized\")\n",
    "options.add_argument(\"user-agent=Mozilla/5.0 (Windows NT 10.0; Win64; x64) AppleWebKit/537.36 (KHTML, like Gecko) Chrome/123.0.0.0 Safari/537.36\")\n",
    "options.add_experimental_option(\"excludeSwitches\", [\"enable-automation\"])\n",
    "options.add_experimental_option('useAutomationExtension', False)"
   ]
  },
  {
   "cell_type": "code",
   "execution_count": 13,
   "id": "1613a6e1",
   "metadata": {},
   "outputs": [],
   "source": [
    "# 브라우저 실행\n",
    "browser = webdriver.Chrome(options=options) \n",
    "browser.maximize_window() # 창 최대화\n",
    "\n",
    "# 1. 여기어때 접속하기\n",
    "url = \"https://www.yeogi.com/\"\n",
    "browser.get(url)\n",
    "time.sleep(1)\n",
    "\n",
    "# 2. 해외여행 클릭하기\n",
    "elem = browser.find_element(By.XPATH,'//*[@id=\"LARGE_TAB_OVERSEAS_ACCOMMODATION\"]').click()"
   ]
  },
  {
   "cell_type": "code",
   "execution_count": 14,
   "id": "9e0bbf3e",
   "metadata": {},
   "outputs": [],
   "source": [
    "time.sleep(1)\n",
    "# 3. 오사카 글자 입력하기\n",
    "elem = browser.find_element(By.CLASS_NAME,'css-59ixa7').click()\n",
    "time.sleep(1)\n",
    "elem = browser.find_element(By.XPATH,'//*[@id=\"__next\"]/main/section[1]/div/div/div[2]/form/div[1]/div[1]/div/label/div/div[2]/input')\n",
    "elem.send_keys(\"오사카\")\n",
    "elem.send_keys(Keys.ENTER)\n",
    "time.sleep(2)\n",
    "# 오사카 선택하기\n",
    "elem = browser.find_element(By.XPATH,'//*[@id=\"__next\"]/main/section[1]/div/div/div[2]/form/div[1]/div[2]/ul/li[1]/div[1]/div/span').click()\n",
    "\n",
    "time.sleep(1)\n",
    "# 4.날짜 선택하기\n",
    "# 날짜 클릭\n",
    "# elem = browser.find_element(By.XPATH,'//*[@id=\"__next\"]/main/section[1]/div/div/div[2]/form/div[2]/div[1]/button/span').click()\n",
    "# 9/24 선택하기위해서는 옆으로 넘겨야함\n",
    "elem = browser.find_element(By.XPATH,'//*[@id=\"__next\"]/main/section[1]/div/div/div[2]/form/div[2]/div[2]/div/div[1]/div[1]/button[2]').click()\n",
    "time.sleep(1)\n",
    "elem = browser.find_element(By.XPATH,'//*[@id=\"__next\"]/main/section[1]/div/div/div[2]/form/div[2]/div[2]/div/div[1]/div[1]/button[2]').click()\n",
    "time.sleep(1)\n",
    "# 총 두번 넘김\n",
    "\n",
    "# 9/24~9/27 선택\n",
    "elem = browser.find_element(By.XPATH,'//*[@id=\"__next\"]/main/section[1]/div/div/div[2]/form/div[2]/div[2]/div/div[1]/div[2]/div[2]/div/div/ul[2]/li[25]/button/span').click()\n",
    "time.sleep(1)\n",
    "elem = browser.find_element(By.XPATH,'//*[@id=\"__next\"]/main/section[1]/div/div/div[2]/form/div[2]/div[2]/div/div[1]/div[2]/div[2]/div/div/ul[2]/li[28]/button/span').click()\n",
    "\n",
    "# 검색 클릭\n",
    "elem = browser.find_element(By.XPATH,'//*[@id=\"__next\"]/main/section[1]/div/div/div[2]/form/div[4]/button').click()"
   ]
  },
  {
   "cell_type": "code",
   "execution_count": 15,
   "id": "48764d35",
   "metadata": {},
   "outputs": [
    {
     "name": "stdout",
     "output_type": "stream",
     "text": [
      "스크롤 내리기 종료\n"
     ]
    }
   ],
   "source": [
    "### 스크롤 내리기\n",
    "# 현재 사이트 높이를 가져오는 자바스크립트\n",
    "prev_height = browser.execute_script(\"return document.body.scrollHeight\")\n",
    "\n",
    "# 반복 실행\n",
    "while True:\n",
    "    # 현재 브라우저에서 0에서 현재 높이까지 스크롤 내리기\n",
    "    # 자바 스크립트 실행 \n",
    "    browser.execute_script(\"window.scrollTo(0,document.body.scrollHeight)\")\n",
    "    time.sleep(2)\n",
    "    # 변동된 현재 문서 높이를 가져오기\n",
    "    curr_height = browser.execute_script(\"return document.body.scrollHeight\")\n",
    "    # 스크롤 높이가 변동이 없을 시 \n",
    "    if curr_height == prev_height: break \n",
    "    prev_height = curr_height # 현재 높이를 다시 입력해서 스크롤 내리기 재실행\n",
    "    \n",
    "print(\"스크롤 내리기 종료\")"
   ]
  },
  {
   "cell_type": "code",
   "execution_count": 16,
   "id": "dabbab0a",
   "metadata": {},
   "outputs": [
    {
     "name": "stdout",
     "output_type": "stream",
     "text": [
      "더 싱굴라리 호텔 앤 스카이스파 앳 유니버설 스튜디오 재팬\n",
      "하튼 호텔 신사이바시 나가호리도리\n",
      "8.9 12367\n",
      "132108\n",
      "--------------------------------------------------\n",
      "호텔 한큐 리스파이어 오사카\n",
      "오사카 히노데 호텔 닛폰바시 - 심층수 온천\n",
      "프리미어 호텔 캐빈 프레지던트 오사카\n",
      "호텔 플라자 오사카\n",
      "호텔 비스타 오사카 난바\n",
      "호텔 몬토레 그라스미아 오사카\n",
      "호텔 오리엔탈 익스프레스 오사카 신사이바시\n",
      "8.9 5536\n",
      "186505\n",
      "--------------------------------------------------\n",
      "난바 오리엔탈 호텔\n",
      "베셀 인 남바\n",
      "그리드스 프리미엄 호텔 오사카 남바\n",
      "8.8 7197\n",
      "162515\n",
      "--------------------------------------------------\n",
      "호텔 비나리오 우메다\n",
      "8.0 5415\n",
      "157364\n",
      "--------------------------------------------------\n",
      "베셀 인 신사이바시\n",
      "8.9 6031\n",
      "165135\n",
      "--------------------------------------------------\n",
      "퀸테사 호텔 오사카 신사이바시 코믹 & 북스\n",
      "8.4 7220\n",
      "166106\n",
      "--------------------------------------------------\n",
      "도톤보리 호텔\n",
      "센타라 그랜드 호텔 오사카\n",
      "칸데오 호텔 오사카 난바\n"
     ]
    }
   ],
   "source": [
    "#금액은 220,000만원 이하 평점은 8.0 이상 평가수는 5000명 이상입력한것만 출력하시오\n",
    "soup = BeautifulSoup(browser.page_source,\"lxml\")\n",
    "\n",
    "hotels = []\n",
    "# 먼저 호텔 정보 모두 가져오기\n",
    "data = soup.find(\"div\",{\"class\":\"css-1poun1e\"})\n",
    "hotel_list = data.find_all(\"div\",{\"class\":\"css-gvoll6\"})\n",
    "for hotel in hotel_list:\n",
    "    #호텔이름\n",
    "    title = hotel.find(\"h3\",{\"class\":\"gc-thumbnail-type-seller-card-title css-1gxx2ac\"}).get_text().strip()\n",
    "    print(title)\n",
    "    # 평점\n",
    "    rank = hotel.find(\"span\",{\"class\":\"css-9ml4lz\"})\n",
    "    rank = float(rank.get_text().strip()) # 타입 변경\n",
    "    # 평가수\n",
    "    rating = hotel.find(\"span\",{\"class\":\"css-oj6onp\"}).get_text().strip().replace(\",\",\"\")\n",
    "    rating = int(rating[:-4])\n",
    "    # 가격 \n",
    "    price = hotel.find(\"span\",{\"class\":\"css-5r5920\"}).get_text().strip().replace(\",\",\"\")\n",
    "    price = int(price)\n",
    "    if rank < 8.0 or rating <= 5000 or price >= 220000:\n",
    "        continue\n",
    "    print(rank,rating)\n",
    "    print(price)\n",
    "    \n",
    "    print('-'*50)   \n",
    "    hotels.append({\"호텔이름\":title ,\"평점\":rank,\"평가수\":rating,\"가격\":price}) \n",
    "\n",
    "df = pd.DataFrame(hotels)\n",
    "df.to_csv(\"hotels_list.csv\", index=False, encoding=\"utf-8-sig\")\n",
    "    "
   ]
  }
 ],
 "metadata": {
  "kernelspec": {
   "display_name": "Python 3",
   "language": "python",
   "name": "python3"
  },
  "language_info": {
   "codemirror_mode": {
    "name": "ipython",
    "version": 3
   },
   "file_extension": ".py",
   "mimetype": "text/x-python",
   "name": "python",
   "nbconvert_exporter": "python",
   "pygments_lexer": "ipython3",
   "version": "3.13.2"
  }
 },
 "nbformat": 4,
 "nbformat_minor": 5
}
