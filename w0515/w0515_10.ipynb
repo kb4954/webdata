{
 "cells": [
  {
   "cell_type": "markdown",
   "id": "3cfea1ef",
   "metadata": {},
   "source": [
    "https://www.yeogi.com/<br>\n",
    "오사카글자 넣어서 검색 <br>\n",
    "9.24~9.27 검색 <br>\n",
    "금액은 220,000만원 이하<br>\n",
    "평점은 9.0 이상<br>\n",
    "평가수는 5000명 이상입력한것만 출력하시오"
   ]
  },
  {
   "cell_type": "code",
   "execution_count": 100,
   "id": "f50a8b55",
   "metadata": {},
   "outputs": [],
   "source": [
    "import requests\n",
    "from bs4 import BeautifulSoup\n",
    "from selenium import webdriver\n",
    "from selenium.webdriver.common.keys import Keys\n",
    "from selenium.webdriver.common.by import By\n",
    "from selenium.webdriver.chrome.service import Service\n",
    "from selenium.webdriver.chrome.options import Options\n",
    "from selenium.webdriver.support.ui import WebDriverWait\n",
    "from selenium.webdriver.support import expected_conditions as EC\n",
    "import csv\n",
    "import time\n",
    "import random\n",
    "from datetime import datetime\n",
    "\n",
    "# 크롬 옵션 설정 - 셀레니움 접근 제한 : 보안\n",
    "options = Options()\n",
    "options.add_argument(\"--disable-blink-features=AutomationControlled\")  # 자동화 티 안 나게\n",
    "options.add_argument(\"start-maximized\")\n",
    "options.add_argument(\"user-agent=Mozilla/5.0 (Windows NT 10.0; Win64; x64) AppleWebKit/537.36 (KHTML, like Gecko) Chrome/123.0.0.0 Safari/537.36\")\n",
    "options.add_experimental_option(\"excludeSwitches\", [\"enable-automation\"])\n",
    "options.add_experimental_option('useAutomationExtension', False)"
   ]
  },
  {
   "cell_type": "code",
   "execution_count": 101,
   "id": "3a82e415",
   "metadata": {},
   "outputs": [
    {
     "ename": "FileNotFoundError",
     "evalue": "[Errno 2] No such file or directory: 'w0515/hotels.csv'",
     "output_type": "error",
     "traceback": [
      "\u001b[31m---------------------------------------------------------------------------\u001b[39m",
      "\u001b[31mFileNotFoundError\u001b[39m                         Traceback (most recent call last)",
      "\u001b[36mCell\u001b[39m\u001b[36m \u001b[39m\u001b[32mIn[101]\u001b[39m\u001b[32m, line 2\u001b[39m\n\u001b[32m      1\u001b[39m \u001b[38;5;66;03m# 파일 저장\u001b[39;00m\n\u001b[32m----> \u001b[39m\u001b[32m2\u001b[39m f = \u001b[38;5;28;43mopen\u001b[39;49m\u001b[43m(\u001b[49m\u001b[33;43m'\u001b[39;49m\u001b[33;43mw0515/hotels.csv\u001b[39;49m\u001b[33;43m'\u001b[39;49m\u001b[43m,\u001b[49m\u001b[33;43m'\u001b[39;49m\u001b[33;43mw\u001b[39;49m\u001b[33;43m'\u001b[39;49m\u001b[43m,\u001b[49m\u001b[43mencoding\u001b[49m\u001b[43m=\u001b[49m\u001b[33;43m'\u001b[39;49m\u001b[33;43mutf-8-sig\u001b[39;49m\u001b[33;43m'\u001b[39;49m\u001b[43m,\u001b[49m\u001b[43mnewline\u001b[49m\u001b[43m=\u001b[49m\u001b[33;43m'\u001b[39;49m\u001b[33;43m'\u001b[39;49m\u001b[43m)\u001b[49m \u001b[38;5;66;03m# 빈공백을 하나 넣어줘야 엔터키가 두번 안들어감.\u001b[39;00m\n\u001b[32m      3\u001b[39m writer = csv.writer(f)\n\u001b[32m      5\u001b[39m title = [\u001b[33m'\u001b[39m\u001b[33m호텔이름\u001b[39m\u001b[33m'\u001b[39m,\u001b[33m'\u001b[39m\u001b[33m평점\u001b[39m\u001b[33m'\u001b[39m,\u001b[33m'\u001b[39m\u001b[33m평가수\u001b[39m\u001b[33m'\u001b[39m,\u001b[33m'\u001b[39m\u001b[33m가격\u001b[39m\u001b[33m'\u001b[39m]\n",
      "\u001b[36mFile \u001b[39m\u001b[32m~\\AppData\\Roaming\\Python\\Python313\\site-packages\\IPython\\core\\interactiveshell.py:326\u001b[39m, in \u001b[36m_modified_open\u001b[39m\u001b[34m(file, *args, **kwargs)\u001b[39m\n\u001b[32m    319\u001b[39m \u001b[38;5;28;01mif\u001b[39;00m file \u001b[38;5;129;01min\u001b[39;00m {\u001b[32m0\u001b[39m, \u001b[32m1\u001b[39m, \u001b[32m2\u001b[39m}:\n\u001b[32m    320\u001b[39m     \u001b[38;5;28;01mraise\u001b[39;00m \u001b[38;5;167;01mValueError\u001b[39;00m(\n\u001b[32m    321\u001b[39m         \u001b[33mf\u001b[39m\u001b[33m\"\u001b[39m\u001b[33mIPython won\u001b[39m\u001b[33m'\u001b[39m\u001b[33mt let you open fd=\u001b[39m\u001b[38;5;132;01m{\u001b[39;00mfile\u001b[38;5;132;01m}\u001b[39;00m\u001b[33m by default \u001b[39m\u001b[33m\"\u001b[39m\n\u001b[32m    322\u001b[39m         \u001b[33m\"\u001b[39m\u001b[33mas it is likely to crash IPython. If you know what you are doing, \u001b[39m\u001b[33m\"\u001b[39m\n\u001b[32m    323\u001b[39m         \u001b[33m\"\u001b[39m\u001b[33myou can use builtins\u001b[39m\u001b[33m'\u001b[39m\u001b[33m open.\u001b[39m\u001b[33m\"\u001b[39m\n\u001b[32m    324\u001b[39m     )\n\u001b[32m--> \u001b[39m\u001b[32m326\u001b[39m \u001b[38;5;28;01mreturn\u001b[39;00m \u001b[43mio_open\u001b[49m\u001b[43m(\u001b[49m\u001b[43mfile\u001b[49m\u001b[43m,\u001b[49m\u001b[43m \u001b[49m\u001b[43m*\u001b[49m\u001b[43margs\u001b[49m\u001b[43m,\u001b[49m\u001b[43m \u001b[49m\u001b[43m*\u001b[49m\u001b[43m*\u001b[49m\u001b[43mkwargs\u001b[49m\u001b[43m)\u001b[49m\n",
      "\u001b[31mFileNotFoundError\u001b[39m: [Errno 2] No such file or directory: 'w0515/hotels.csv'"
     ]
    }
   ],
   "source": [
    "# 파일 저장\n",
    "f = open('w0515/hotels.csv','w',encoding='utf-8-sig',newline='') # 빈공백을 하나 넣어줘야 엔터키가 두번 안들어감.\n",
    "writer = csv.writer(f)\n",
    "\n",
    "title = ['호텔이름','평점','평가수','가격']\n",
    "writer.writerow(title) # csv 리스트 저장 "
   ]
  },
  {
   "cell_type": "code",
   "execution_count": null,
   "id": "1613a6e1",
   "metadata": {},
   "outputs": [],
   "source": [
    "# 브라우저 실행\n",
    "browser = webdriver.Chrome(options=options) \n",
    "browser.maximize_window() # 창 최대화\n",
    "\n",
    "# 1. 여기어때 접속하기\n",
    "url = \"https://www.yeogi.com/\"\n",
    "browser.get(url)\n",
    "time.sleep(1)\n",
    "\n",
    "# 2. 해외여행 클릭하기\n",
    "elem = browser.find_element(By.XPATH,'//*[@id=\"LARGE_TAB_OVERSEAS_ACCOMMODATION\"]').click()"
   ]
  },
  {
   "cell_type": "code",
   "execution_count": null,
   "id": "9e0bbf3e",
   "metadata": {},
   "outputs": [],
   "source": [
    "time.sleep(1)\n",
    "# 3. 오사카 글자 입력하기\n",
    "elem = browser.find_element(By.CLASS_NAME,'css-59ixa7').click()\n",
    "time.sleep(1)\n",
    "elem = browser.find_element(By.XPATH,'//*[@id=\"__next\"]/main/section[1]/div/div/div[2]/form/div[1]/div[1]/div/label/div/div[2]/input')\n",
    "elem.send_keys(\"오사카\")\n",
    "elem.send_keys(Keys.ENTER)\n",
    "time.sleep(2)\n",
    "# 오사카 선택하기\n",
    "elem = browser.find_element(By.XPATH,'//*[@id=\"__next\"]/main/section[1]/div/div/div[2]/form/div[1]/div[2]/ul/li[1]/div[1]/div/span').click()\n",
    "\n",
    "time.sleep(1)\n",
    "# 4.날짜 선택하기\n",
    "# 날짜 클릭\n",
    "# elem = browser.find_element(By.XPATH,'//*[@id=\"__next\"]/main/section[1]/div/div/div[2]/form/div[2]/div[1]/button/span').click()\n",
    "# 9/24 선택하기위해서는 옆으로 넘겨야함\n",
    "elem = browser.find_element(By.XPATH,'//*[@id=\"__next\"]/main/section[1]/div/div/div[2]/form/div[2]/div[2]/div/div[1]/div[1]/button[2]').click()\n",
    "time.sleep(1)\n",
    "elem = browser.find_element(By.XPATH,'//*[@id=\"__next\"]/main/section[1]/div/div/div[2]/form/div[2]/div[2]/div/div[1]/div[1]/button[2]').click()\n",
    "time.sleep(1)\n",
    "# 총 두번 넘김\n",
    "\n",
    "# 9/24~9/27 선택\n",
    "elem = browser.find_element(By.XPATH,'//*[@id=\"__next\"]/main/section[1]/div/div/div[2]/form/div[2]/div[2]/div/div[1]/div[2]/div[2]/div/div/ul[2]/li[25]/button/span').click()\n",
    "time.sleep(1)\n",
    "elem = browser.find_element(By.XPATH,'//*[@id=\"__next\"]/main/section[1]/div/div/div[2]/form/div[2]/div[2]/div/div[1]/div[2]/div[2]/div/div/ul[2]/li[28]/button/span').click()\n",
    "\n",
    "# 검색 클릭\n",
    "elem = browser.find_element(By.XPATH,'//*[@id=\"__next\"]/main/section[1]/div/div/div[2]/form/div[4]/button').click()"
   ]
  },
  {
   "cell_type": "code",
   "execution_count": null,
   "id": "48764d35",
   "metadata": {},
   "outputs": [
    {
     "name": "stdout",
     "output_type": "stream",
     "text": [
      "스크롤 내리기 종료\n"
     ]
    }
   ],
   "source": [
    "### 스크롤 내리기\n",
    "# 현재 사이트 높이를 가져오는 자바스크립트\n",
    "prev_height = browser.execute_script(\"return document.body.scrollHeight\")\n",
    "\n",
    "# 반복 실행\n",
    "while True:\n",
    "    # 현재 브라우저에서 0에서 현재 높이까지 스크롤 내리기\n",
    "    # 자바 스크립트 실행 \n",
    "    browser.execute_script(\"window.scrollTo(0,document.body.scrollHeight)\")\n",
    "    time.sleep(2)\n",
    "    # 변동된 현재 문서 높이를 가져오기\n",
    "    curr_height = browser.execute_script(\"return document.body.scrollHeight\")\n",
    "    # 스크롤 높이가 변동이 없을 시 \n",
    "    if curr_height == prev_height: break \n",
    "    prev_height = curr_height # 현재 높이를 다시 입력해서 스크롤 내리기 재실행\n",
    "    \n",
    "print(\"스크롤 내리기 종료\")"
   ]
  },
  {
   "cell_type": "code",
   "execution_count": null,
   "id": "dabbab0a",
   "metadata": {},
   "outputs": [
    {
     "name": "stdout",
     "output_type": "stream",
     "text": [
      "호텔 그레이서리 오사카 난바\n",
      "8.7 7078\n",
      "203724\n",
      "--------------------------------------------------\n",
      "하튼 호텔 신사이바시 나가호리도리\n",
      "8.9 12367\n",
      "132679\n",
      "--------------------------------------------------\n",
      "호텔 한큐 리스파이어 오사카\n",
      "프리미어 호텔 캐빈 프레지던트 오사카\n",
      "호텔 플라자 오사카\n",
      "오사카 히노데 호텔 닛폰바시 - 심층수 온천\n",
      "호텔 비스타 오사카 난바\n",
      "호텔 몬토레 그라스미아 오사카\n",
      "호텔 오리엔탈 익스프레스 오사카 신사이바시\n",
      "8.9 5536\n",
      "187312\n",
      "--------------------------------------------------\n",
      "난바 오리엔탈 호텔\n",
      "그리드스 프리미엄 호텔 오사카 남바\n",
      "8.8 7197\n",
      "161946\n",
      "--------------------------------------------------\n",
      "호텔 비나리오 우메다\n",
      "8.0 5415\n",
      "158044\n",
      "--------------------------------------------------\n",
      "베셀 인 남바\n",
      "베셀 인 신사이바시\n",
      "8.9 6031\n",
      "165849\n",
      "--------------------------------------------------\n",
      "퀸테사 호텔 오사카 신사이바시 코믹 & 북스\n",
      "8.4 7220\n",
      "166825\n",
      "--------------------------------------------------\n",
      "도톤보리 호텔\n",
      "센타라 그랜드 호텔 오사카\n",
      "칸데오 호텔 오사카 난바\n"
     ]
    }
   ],
   "source": [
    "#금액은 220,000만원 이하 평점은 8.0 이상 평가수는 5000명 이상입력한것만 출력하시오\n",
    "soup = BeautifulSoup(browser.page_source,\"lxml\")\n",
    "\n",
    "# 먼저 호텔 정보 모두 가져오기\n",
    "data = soup.find(\"div\",{\"class\":\"css-1poun1e\"})\n",
    "hotel_list = data.find_all(\"div\",{\"class\":\"css-gvoll6\"})\n",
    "for hotel in hotel_list:\n",
    "    #호텔이름\n",
    "    title = hotel.find(\"h3\",{\"class\":\"gc-thumbnail-type-seller-card-title css-1gxx2ac\"}).get_text().strip()\n",
    "    print(title)\n",
    "    # 평점\n",
    "    rank = hotel.find(\"span\",{\"class\":\"css-9ml4lz\"})\n",
    "    rank = float(rank.get_text().strip()) # 타입 변경\n",
    "    # 평가수\n",
    "    rating = hotel.find(\"span\",{\"class\":\"css-oj6onp\"}).get_text().strip().replace(\",\",\"\")\n",
    "    rating = int(rating[:-4])\n",
    "    # 가격 \n",
    "    price = hotel.find(\"span\",{\"class\":\"css-5r5920\"}).get_text().strip().replace(\",\",\"\")\n",
    "    price = int(price)\n",
    "    if rank < 8.0 or rating <= 5000 or price >= 220000:\n",
    "        continue\n",
    "    print(rank,rating)\n",
    "    print(price)\n",
    "    \n",
    "    print('-'*50)    \n",
    "    "
   ]
  },
  {
   "cell_type": "code",
   "execution_count": null,
   "id": "836355a3",
   "metadata": {},
   "outputs": [],
   "source": [
    "# 파일 생성 완료\n",
    "f.close()"
   ]
  }
 ],
 "metadata": {
  "kernelspec": {
   "display_name": "Python 3",
   "language": "python",
   "name": "python3"
  },
  "language_info": {
   "codemirror_mode": {
    "name": "ipython",
    "version": 3
   },
   "file_extension": ".py",
   "mimetype": "text/x-python",
   "name": "python",
   "nbconvert_exporter": "python",
   "pygments_lexer": "ipython3",
   "version": "3.13.2"
  }
 },
 "nbformat": 4,
 "nbformat_minor": 5
}
