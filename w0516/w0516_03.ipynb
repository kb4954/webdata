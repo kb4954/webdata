{
 "cells": [
  {
   "cell_type": "markdown",
   "id": "25455818",
   "metadata": {},
   "source": [
    "Numpy,pandas : 데이터 분석\n",
    "matplotlib : 시각화<br>\n",
    "pandas 명령어 <br>"
   ]
  },
  {
   "cell_type": "markdown",
   "id": "5b5ef73e",
   "metadata": {},
   "source": [
    "### Series : 1차원 데이터\n",
    "##### 리스트 형태인데, 데이터 처리를 쉽게 할 수 있도록 하는 라이브러리"
   ]
  },
  {
   "cell_type": "code",
   "execution_count": null,
   "id": "ecccd72e",
   "metadata": {},
   "outputs": [
    {
     "name": "stdout",
     "output_type": "stream",
     "text": [
      "10\n"
     ]
    },
    {
     "data": {
      "text/plain": [
       "0   -20\n",
       "1   -10\n",
       "2    10\n",
       "3    20\n",
       "dtype: int64"
      ]
     },
     "execution_count": 9,
     "metadata": {},
     "output_type": "execute_result"
    }
   ],
   "source": [
    "import pandas as pd\n",
    "\n",
    "# 1차원 데이터\n",
    "\n",
    "a_list = [-20,-10,10,20]\n",
    "temp = pd.Series(a_list) # 리스트 타입을 1차원 Series타입 변환: 인덱스가 자동으로 생성됨.\n",
    "# 왼쪽열 인덱스 오른쪽열 컬럼이라고 함. \n",
    "print(temp[2])\n",
    "temp # index,column\n",
    "\n"
   ]
  },
  {
   "cell_type": "code",
   "execution_count": 12,
   "id": "2ef03852",
   "metadata": {},
   "outputs": [
    {
     "name": "stdout",
     "output_type": "stream",
     "text": [
      "-20\n",
      "20\n"
     ]
    }
   ],
   "source": [
    "## Series index 지정하는 방법\n",
    "\n",
    "temp = pd.Series(a_list,index=['1월','2월','3월','4월'])\n",
    "temp\n",
    "print(temp['1월'])\n",
    "print(temp['4월'])"
   ]
  },
  {
   "cell_type": "code",
   "execution_count": 15,
   "id": "d2664565",
   "metadata": {},
   "outputs": [
    {
     "data": {
      "text/plain": [
       "1월   -20\n",
       "2월   -10\n",
       "3월    10\n",
       "4월    20\n",
       "dtype: int64"
      ]
     },
     "execution_count": 15,
     "metadata": {},
     "output_type": "execute_result"
    }
   ],
   "source": [
    "#index 개수가 틀리면 에러 처리\n",
    "# temp = pd.Series(a_list,index=['1월','2월','3월','4월','5월'])\n",
    "temp = pd.Series(a_list,index=['1월','2월','3월','4월'])\n",
    "temp"
   ]
  },
  {
   "cell_type": "markdown",
   "id": "78200751",
   "metadata": {},
   "source": [
    "#### DataFrame : 2차원데이터"
   ]
  },
  {
   "cell_type": "code",
   "execution_count": null,
   "id": "6758bc89",
   "metadata": {},
   "outputs": [
    {
     "data": {
      "text/plain": [
       "{'번호': ['1번', '2번', '3번', '4번', '5번'],\n",
       " '이름': ['홍길동', '유관순', '이순신', '강감찬', '김구'],\n",
       " '합계': [300, 299, 250, 270, 297]}"
      ]
     },
     "execution_count": 16,
     "metadata": {},
     "output_type": "execute_result"
    }
   ],
   "source": [
    "# dic 형태\n",
    "data = {\n",
    "    '번호':['1번','2번','3번','4번','5번'],\n",
    "    '이름':['홍길동','유관순','이순신','강감찬','김구'],\n",
    "    '합계':[300,299,250,270,297]\n",
    "    \n",
    "}\n",
    "data"
   ]
  },
  {
   "cell_type": "code",
   "execution_count": 18,
   "id": "906c7c20",
   "metadata": {},
   "outputs": [
    {
     "data": {
      "text/plain": [
       "[300, 299, 250, 270, 297]"
      ]
     },
     "execution_count": 18,
     "metadata": {},
     "output_type": "execute_result"
    }
   ],
   "source": [
    "# 딕셔너리 타입 구현 \n",
    "\n",
    "data['이름']\n",
    "data['합계']"
   ]
  },
  {
   "cell_type": "code",
   "execution_count": 19,
   "id": "d81c1bbf",
   "metadata": {},
   "outputs": [
    {
     "data": {
      "text/html": [
       "<div>\n",
       "<style scoped>\n",
       "    .dataframe tbody tr th:only-of-type {\n",
       "        vertical-align: middle;\n",
       "    }\n",
       "\n",
       "    .dataframe tbody tr th {\n",
       "        vertical-align: top;\n",
       "    }\n",
       "\n",
       "    .dataframe thead th {\n",
       "        text-align: right;\n",
       "    }\n",
       "</style>\n",
       "<table border=\"1\" class=\"dataframe\">\n",
       "  <thead>\n",
       "    <tr style=\"text-align: right;\">\n",
       "      <th></th>\n",
       "      <th>번호</th>\n",
       "      <th>이름</th>\n",
       "      <th>합계</th>\n",
       "    </tr>\n",
       "  </thead>\n",
       "  <tbody>\n",
       "    <tr>\n",
       "      <th>0</th>\n",
       "      <td>1번</td>\n",
       "      <td>홍길동</td>\n",
       "      <td>300</td>\n",
       "    </tr>\n",
       "    <tr>\n",
       "      <th>1</th>\n",
       "      <td>2번</td>\n",
       "      <td>유관순</td>\n",
       "      <td>299</td>\n",
       "    </tr>\n",
       "    <tr>\n",
       "      <th>2</th>\n",
       "      <td>3번</td>\n",
       "      <td>이순신</td>\n",
       "      <td>250</td>\n",
       "    </tr>\n",
       "    <tr>\n",
       "      <th>3</th>\n",
       "      <td>4번</td>\n",
       "      <td>강감찬</td>\n",
       "      <td>270</td>\n",
       "    </tr>\n",
       "    <tr>\n",
       "      <th>4</th>\n",
       "      <td>5번</td>\n",
       "      <td>김구</td>\n",
       "      <td>297</td>\n",
       "    </tr>\n",
       "  </tbody>\n",
       "</table>\n",
       "</div>"
      ],
      "text/plain": [
       "   번호   이름   합계\n",
       "0  1번  홍길동  300\n",
       "1  2번  유관순  299\n",
       "2  3번  이순신  250\n",
       "3  4번  강감찬  270\n",
       "4  5번   김구  297"
      ]
     },
     "execution_count": 19,
     "metadata": {},
     "output_type": "execute_result"
    }
   ],
   "source": [
    "## pandas DataFrame 형태로 변경\n",
    "df = pd.DataFrame(data)\n",
    "df"
   ]
  },
  {
   "cell_type": "code",
   "execution_count": 21,
   "id": "0bde4fd2",
   "metadata": {},
   "outputs": [
    {
     "data": {
      "text/plain": [
       "0    300\n",
       "1    299\n",
       "2    250\n",
       "3    270\n",
       "4    297\n",
       "Name: 합계, dtype: int64"
      ]
     },
     "execution_count": 21,
     "metadata": {},
     "output_type": "execute_result"
    }
   ],
   "source": [
    "df['이름']\n",
    "df['합계']"
   ]
  },
  {
   "cell_type": "code",
   "execution_count": 22,
   "id": "54f90ddb",
   "metadata": {},
   "outputs": [
    {
     "data": {
      "text/plain": [
       "0    1번\n",
       "1    2번\n",
       "2    3번\n",
       "3    4번\n",
       "4    5번\n",
       "Name: 번호, dtype: object"
      ]
     },
     "execution_count": 22,
     "metadata": {},
     "output_type": "execute_result"
    }
   ],
   "source": [
    "df['번호']"
   ]
  },
  {
   "cell_type": "code",
   "execution_count": 23,
   "id": "f92dd172",
   "metadata": {},
   "outputs": [
    {
     "data": {
      "text/html": [
       "<div>\n",
       "<style scoped>\n",
       "    .dataframe tbody tr th:only-of-type {\n",
       "        vertical-align: middle;\n",
       "    }\n",
       "\n",
       "    .dataframe tbody tr th {\n",
       "        vertical-align: top;\n",
       "    }\n",
       "\n",
       "    .dataframe thead th {\n",
       "        text-align: right;\n",
       "    }\n",
       "</style>\n",
       "<table border=\"1\" class=\"dataframe\">\n",
       "  <thead>\n",
       "    <tr style=\"text-align: right;\">\n",
       "      <th></th>\n",
       "      <th>번호</th>\n",
       "      <th>합계</th>\n",
       "    </tr>\n",
       "  </thead>\n",
       "  <tbody>\n",
       "    <tr>\n",
       "      <th>0</th>\n",
       "      <td>1번</td>\n",
       "      <td>300</td>\n",
       "    </tr>\n",
       "    <tr>\n",
       "      <th>1</th>\n",
       "      <td>2번</td>\n",
       "      <td>299</td>\n",
       "    </tr>\n",
       "    <tr>\n",
       "      <th>2</th>\n",
       "      <td>3번</td>\n",
       "      <td>250</td>\n",
       "    </tr>\n",
       "    <tr>\n",
       "      <th>3</th>\n",
       "      <td>4번</td>\n",
       "      <td>270</td>\n",
       "    </tr>\n",
       "    <tr>\n",
       "      <th>4</th>\n",
       "      <td>5번</td>\n",
       "      <td>297</td>\n",
       "    </tr>\n",
       "  </tbody>\n",
       "</table>\n",
       "</div>"
      ],
      "text/plain": [
       "   번호   합계\n",
       "0  1번  300\n",
       "1  2번  299\n",
       "2  3번  250\n",
       "3  4번  270\n",
       "4  5번  297"
      ]
     },
     "execution_count": 23,
     "metadata": {},
     "output_type": "execute_result"
    }
   ],
   "source": [
    "# df 2가지 이상 출력하려면 [[]] 2번 사용해서 출력해야함 .\n",
    "df[['번호','합계']]"
   ]
  }
 ],
 "metadata": {
  "kernelspec": {
   "display_name": "Python 3",
   "language": "python",
   "name": "python3"
  },
  "language_info": {
   "codemirror_mode": {
    "name": "ipython",
    "version": 3
   },
   "file_extension": ".py",
   "mimetype": "text/x-python",
   "name": "python",
   "nbconvert_exporter": "python",
   "pygments_lexer": "ipython3",
   "version": "3.13.2"
  }
 },
 "nbformat": 4,
 "nbformat_minor": 5
}
