{
 "cells": [
  {
   "cell_type": "markdown",
   "id": "3a4ad73b",
   "metadata": {},
   "source": [
    "제목 개봉일 평점 웹스크래핑 평점에 대한 평균과 합계 최대값 최소값을 출력하시오 DataFrame사용해서 적용"
   ]
  },
  {
   "cell_type": "code",
   "execution_count": 30,
   "id": "e680f538",
   "metadata": {},
   "outputs": [],
   "source": [
    "import requests\n",
    "from bs4 import BeautifulSoup\n",
    "from selenium import webdriver\n",
    "from selenium.webdriver.common.keys import Keys\n",
    "from selenium.webdriver.common.by import By\n",
    "from selenium.webdriver.chrome.service import Service\n",
    "from selenium.webdriver.chrome.options import Options\n",
    "from selenium.webdriver.support.ui import WebDriverWait\n",
    "from selenium.webdriver.support import expected_conditions as EC\n",
    "import csv\n",
    "import time\n",
    "import random\n",
    "from datetime import datetime\n",
    "import pandas as pd\n",
    "\n",
    "# 크롬 옵션 설정 - 셀레니움 접근 제한 : 보안\n",
    "options = Options()\n",
    "options.add_argument(\"--disable-blink-features=AutomationControlled\")  # 자동화 티 안 나게\n",
    "options.add_argument(\"start-maximized\")\n",
    "options.add_argument(\"user-agent=Mozilla/5.0 (Windows NT 10.0; Win64; x64) AppleWebKit/537.36 (KHTML, like Gecko) Chrome/123.0.0.0 Safari/537.36\")\n",
    "options.add_experimental_option(\"excludeSwitches\", [\"enable-automation\"])\n",
    "options.add_experimental_option('useAutomationExtension', False)"
   ]
  },
  {
   "cell_type": "code",
   "execution_count": 31,
   "id": "ffab5a27",
   "metadata": {},
   "outputs": [
    {
     "name": "stdout",
     "output_type": "stream",
     "text": [
      "더 퍼스트 슬램덩크\n",
      "2025.01.04.\n",
      "9.25\n",
      "해리 포터와 죽음의 성물 2\n",
      "2025.01.15.\n",
      "9.19\n",
      "검은 수녀들\n",
      "2025.01.24.\n",
      "6.44\n",
      "히트맨2\n",
      "2025.01.22.\n",
      "7.44\n",
      "러브레터\n",
      "2025.01.01.\n",
      "9.32\n",
      "마당을 나온 암탉\n",
      "2025.01.22.\n",
      "8.67\n",
      "색, 계\n",
      "2025.01.01.\n",
      "8.98\n",
      "말할 수 없는 비밀\n",
      "2025.01.27.\n",
      "8.62\n"
     ]
    }
   ],
   "source": [
    "# 브라우저 실행\n",
    "browser = webdriver.Chrome(options=options) \n",
    "browser.maximize_window() # 창 최대화\n",
    "\n",
    "# 1. 네이버영화 접속하기\n",
    "url = \"https://search.naver.com/search.naver?where=nexearch&sm=tab_etc&qvt=0&query=%EC%9B%94%EB%B3%84%EA%B0%9C%EB%B4%89%EC%98%81%ED%99%94\"\n",
    "browser.get(url)\n",
    "time.sleep(2)\n",
    "\n",
    "# 2. 1월 클릭하기 \n",
    "elem = browser.find_element(By.XPATH,'//*[@id=\"main_pack\"]/div[3]/div[2]/div/div/div/div[1]/div[3]/div/div/ul[2]/li[1]/a/span').click()\n",
    "time.sleep(2)\n",
    "## 웹 스크래핑 시작 하기\n",
    "soup = BeautifulSoup(browser.page_source,\"lxml\")\n",
    "\n",
    "movies = []\n",
    "data = soup.find(\"div\",{\"class\":\"card_area _panel\"})\n",
    "movie_list = data.find_all(\"div\",{\"class\":\"card_item\"})\n",
    "for movie in movie_list:\n",
    "    # 영화 이름\n",
    "    mTitle = movie.find(\"a\",{\"class\":\"this_text\"}).get_text().strip()\n",
    "    print(mTitle)\n",
    "    # 개봉일\n",
    "    info_group = movie.find(class_=\"info_group type_visible\")\n",
    "    mDate = info_group.find(\"dd\").get_text().strip()\n",
    "    print(mDate)\n",
    "    # 평점\n",
    "    rank = movie.find(\"span\",{\"class\":\"num\"})\n",
    "    rank = float(rank.get_text().strip())\n",
    "    print(rank)\n",
    "    movies.append({\"영화제목\":mTitle, \"개봉일\":mDate, \"평점\":rank})\n",
    "    \n",
    "df = pd.DataFrame(movies)"
   ]
  },
  {
   "cell_type": "code",
   "execution_count": 32,
   "id": "9b629d8c",
   "metadata": {},
   "outputs": [],
   "source": [
    "df.to_csv(\"movies.csv\",index=False,encoding=\"utf-8-sig\")"
   ]
  },
  {
   "cell_type": "code",
   "execution_count": 37,
   "id": "9f760302",
   "metadata": {},
   "outputs": [
    {
     "name": "stdout",
     "output_type": "stream",
     "text": [
      "<class 'pandas.core.frame.DataFrame'>\n",
      "RangeIndex: 8 entries, 0 to 7\n",
      "Data columns (total 3 columns):\n",
      " #   Column  Non-Null Count  Dtype  \n",
      "---  ------  --------------  -----  \n",
      " 0   영화제목    8 non-null      object \n",
      " 1   개봉일     8 non-null      object \n",
      " 2   평점      8 non-null      float64\n",
      "dtypes: float64(1), object(2)\n",
      "memory usage: 324.0+ bytes\n"
     ]
    }
   ],
   "source": [
    "df['평점'].sum()\n",
    "df['평점'].mean()\n",
    "df['평점'].min()\n",
    "df['평점'].max()\n",
    "df['평점'].nlargest()\n",
    "df['평점'].nsmallest()\n",
    "\n",
    "df.describe()\n",
    "df.info()"
   ]
  }
 ],
 "metadata": {
  "kernelspec": {
   "display_name": "Python 3",
   "language": "python",
   "name": "python3"
  },
  "language_info": {
   "codemirror_mode": {
    "name": "ipython",
    "version": 3
   },
   "file_extension": ".py",
   "mimetype": "text/x-python",
   "name": "python",
   "nbconvert_exporter": "python",
   "pygments_lexer": "ipython3",
   "version": "3.13.2"
  }
 },
 "nbformat": 4,
 "nbformat_minor": 5
}
