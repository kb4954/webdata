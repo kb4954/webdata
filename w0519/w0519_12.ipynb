{
 "cells": [
  {
   "cell_type": "markdown",
   "id": "06fe15a6",
   "metadata": {},
   "source": [
    "2014년, 2015년,2016년 4월 사고(건)데이터만 출력하시오"
   ]
  },
  {
   "cell_type": "code",
   "execution_count": 4,
   "id": "44725f05",
   "metadata": {},
   "outputs": [
    {
     "data": {
      "text/html": [
       "<div>\n",
       "<style scoped>\n",
       "    .dataframe tbody tr th:only-of-type {\n",
       "        vertical-align: middle;\n",
       "    }\n",
       "\n",
       "    .dataframe tbody tr th {\n",
       "        vertical-align: top;\n",
       "    }\n",
       "\n",
       "    .dataframe thead th {\n",
       "        text-align: right;\n",
       "    }\n",
       "</style>\n",
       "<table border=\"1\" class=\"dataframe\">\n",
       "  <thead>\n",
       "    <tr style=\"text-align: right;\">\n",
       "      <th></th>\n",
       "      <th>구분</th>\n",
       "      <th>사고(건)</th>\n",
       "      <th>사망(명)</th>\n",
       "      <th>부상(명)</th>\n",
       "    </tr>\n",
       "  </thead>\n",
       "  <tbody>\n",
       "    <tr>\n",
       "      <th>0</th>\n",
       "      <td>2016년1월</td>\n",
       "      <td>192</td>\n",
       "      <td>5</td>\n",
       "      <td>387</td>\n",
       "    </tr>\n",
       "    <tr>\n",
       "      <th>1</th>\n",
       "      <td>2016년2월</td>\n",
       "      <td>174</td>\n",
       "      <td>6</td>\n",
       "      <td>328</td>\n",
       "    </tr>\n",
       "    <tr>\n",
       "      <th>2</th>\n",
       "      <td>2016년3월</td>\n",
       "      <td>217</td>\n",
       "      <td>7</td>\n",
       "      <td>435</td>\n",
       "    </tr>\n",
       "    <tr>\n",
       "      <th>3</th>\n",
       "      <td>2016년4월</td>\n",
       "      <td>216</td>\n",
       "      <td>7</td>\n",
       "      <td>419</td>\n",
       "    </tr>\n",
       "    <tr>\n",
       "      <th>4</th>\n",
       "      <td>2016년5월</td>\n",
       "      <td>239</td>\n",
       "      <td>13</td>\n",
       "      <td>522</td>\n",
       "    </tr>\n",
       "    <tr>\n",
       "      <th>5</th>\n",
       "      <td>2016년6월</td>\n",
       "      <td>200</td>\n",
       "      <td>12</td>\n",
       "      <td>362</td>\n",
       "    </tr>\n",
       "    <tr>\n",
       "      <th>6</th>\n",
       "      <td>2016년7월</td>\n",
       "      <td>227</td>\n",
       "      <td>9</td>\n",
       "      <td>460</td>\n",
       "    </tr>\n",
       "    <tr>\n",
       "      <th>7</th>\n",
       "      <td>2016년8월</td>\n",
       "      <td>230</td>\n",
       "      <td>7</td>\n",
       "      <td>490</td>\n",
       "    </tr>\n",
       "    <tr>\n",
       "      <th>8</th>\n",
       "      <td>2016년9월</td>\n",
       "      <td>187</td>\n",
       "      <td>13</td>\n",
       "      <td>347</td>\n",
       "    </tr>\n",
       "    <tr>\n",
       "      <th>9</th>\n",
       "      <td>2016년10월</td>\n",
       "      <td>183</td>\n",
       "      <td>10</td>\n",
       "      <td>367</td>\n",
       "    </tr>\n",
       "    <tr>\n",
       "      <th>10</th>\n",
       "      <td>2016년11월</td>\n",
       "      <td>200</td>\n",
       "      <td>5</td>\n",
       "      <td>418</td>\n",
       "    </tr>\n",
       "    <tr>\n",
       "      <th>11</th>\n",
       "      <td>2016년12월</td>\n",
       "      <td>168</td>\n",
       "      <td>4</td>\n",
       "      <td>364</td>\n",
       "    </tr>\n",
       "  </tbody>\n",
       "</table>\n",
       "</div>"
      ],
      "text/plain": [
       "          구분  사고(건)  사망(명)  부상(명)\n",
       "0    2016년1월    192      5    387\n",
       "1    2016년2월    174      6    328\n",
       "2    2016년3월    217      7    435\n",
       "3    2016년4월    216      7    419\n",
       "4    2016년5월    239     13    522\n",
       "5    2016년6월    200     12    362\n",
       "6    2016년7월    227      9    460\n",
       "7    2016년8월    230      7    490\n",
       "8    2016년9월    187     13    347\n",
       "9   2016년10월    183     10    367\n",
       "10  2016년11월    200      5    418\n",
       "11  2016년12월    168      4    364"
      ]
     },
     "execution_count": 4,
     "metadata": {},
     "output_type": "execute_result"
    }
   ],
   "source": [
    "import pandas as pd\n",
    "\n",
    "df = pd.read_csv('data/2014년졸음운전교통사고.csv',encoding='euc-kr')\n",
    "df2 = pd.read_csv('data/2015년졸음운전교통사고.csv',encoding='euc-kr')\n",
    "df3 = pd.read_csv('data/2016년졸음운전교통사고.csv',encoding='euc-kr')\n",
    "df3"
   ]
  },
  {
   "cell_type": "code",
   "execution_count": null,
   "id": "196a7ee3",
   "metadata": {},
   "outputs": [
    {
     "data": {
      "text/plain": [
       "np.int64(182)"
      ]
     },
     "execution_count": 12,
     "metadata": {},
     "output_type": "execute_result"
    }
   ],
   "source": [
    "# 2014년 4월 사고 데이터\n",
    "\n",
    "df.loc[3,'사고(건)']\n",
    "df.loc[3,'사고(건)']"
   ]
  },
  {
   "cell_type": "code",
   "execution_count": 13,
   "id": "62086c5f",
   "metadata": {},
   "outputs": [
    {
     "data": {
      "text/plain": [
       "np.int64(227)"
      ]
     },
     "execution_count": 13,
     "metadata": {},
     "output_type": "execute_result"
    }
   ],
   "source": [
    "# 2015년 4월 사고 데이터\n",
    "df2.loc[3,'사고(건)']"
   ]
  },
  {
   "cell_type": "code",
   "execution_count": 15,
   "id": "595b7bc1",
   "metadata": {},
   "outputs": [
    {
     "data": {
      "text/plain": [
       "np.int64(216)"
      ]
     },
     "execution_count": 15,
     "metadata": {},
     "output_type": "execute_result"
    }
   ],
   "source": [
    "# 2016년 4월 사고 데이터 \n",
    "df3.loc[3,'사고(건)']"
   ]
  },
  {
   "cell_type": "code",
   "execution_count": null,
   "id": "ba0e682e",
   "metadata": {},
   "outputs": [],
   "source": []
  }
 ],
 "metadata": {
  "kernelspec": {
   "display_name": "Python 3",
   "language": "python",
   "name": "python3"
  },
  "language_info": {
   "codemirror_mode": {
    "name": "ipython",
    "version": 3
   },
   "file_extension": ".py",
   "mimetype": "text/x-python",
   "name": "python",
   "nbconvert_exporter": "python",
   "pygments_lexer": "ipython3",
   "version": "3.13.2"
  }
 },
 "nbformat": 4,
 "nbformat_minor": 5
}
