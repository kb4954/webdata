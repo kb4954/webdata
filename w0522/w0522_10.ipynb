{
 "cells": [
  {
   "cell_type": "code",
   "execution_count": 5,
   "id": "68136c49",
   "metadata": {},
   "outputs": [],
   "source": [
    "import pandas as pd\n",
    "import numpy as np\n",
    "import matplotlib.pyplot as plt\n",
    "import matplotlib\n",
    "matplotlib.rcParams['font.family'] = 'Malgun Gothic' # windows 한글 폰트 연결\n",
    "# matplotlib.rcParams['font.family'] = 'AppleGothic' # mac\n",
    "matplotlib.rcParams['font.size'] = 15                # 폰트사이즈\n",
    "matplotlib.rcParams['axes.unicode_minus'] = False    # 그래프 마이너스  표시"
   ]
  },
  {
   "cell_type": "code",
   "execution_count": 17,
   "id": "40276321",
   "metadata": {},
   "outputs": [],
   "source": [
    "# no = [1,2,3]\n",
    "no = np.arange(1,4)\n",
    "name = ['홍길동','유관순','이순신']\n",
    "kor = [100,80,90]\n",
    "eng = [95,85,92]\n",
    "math = [80,90,70]"
   ]
  },
  {
   "cell_type": "code",
   "execution_count": null,
   "id": "7fa0fa0e",
   "metadata": {},
   "outputs": [],
   "source": []
  },
  {
   "cell_type": "code",
   "execution_count": null,
   "id": "ea7e7f4b",
   "metadata": {},
   "outputs": [
    {
     "data": {
      "image/png": "[encoded data removed]",
      "text/plain": [
       "<Figure size 640x480 with 1 Axes>"
      ]
     },
     "metadata": {},
     "output_type": "display_data"
    }
   ],
   "source": [
    "# 옆으로 누운 막대그래프\n",
    "plt.barh(no-0.2,kor)\n",
    "plt.barh(no+0.2,kor)\n",
    "plt.barh(no,eng)\n",
    "plt.yticks(no,name)\n",
    "plt.show()"
   ]
  },
  {
   "cell_type": "markdown",
   "id": "c1ca26e7",
   "metadata": {},
   "source": []
  },
  {
   "cell_type": "code",
   "execution_count": null,
   "id": "ebe12abd",
   "metadata": {},
   "outputs": [],
   "source": []
  }
 ],
 "metadata": {
  "kernelspec": {
   "display_name": "Python 3",
   "language": "python",
   "name": "python3"
  },
  "language_info": {
   "codemirror_mode": {
    "name": "ipython",
    "version": 3
   },
   "file_extension": ".py",
   "mimetype": "text/x-python",
   "name": "python",
   "nbconvert_exporter": "python",
   "pygments_lexer": "ipython3",
   "version": "3.13.2"
  }
 },
 "nbformat": 4,
 "nbformat_minor": 5
}
